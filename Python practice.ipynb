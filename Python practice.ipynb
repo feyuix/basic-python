{
  "nbformat": 4,
  "nbformat_minor": 0,
  "metadata": {
    "colab": {
      "provenance": [],
      "authorship_tag": "ABX9TyO+fW4YdaLQVH79cgSJjJ98",
      "include_colab_link": true
    },
    "kernelspec": {
      "name": "python3",
      "display_name": "Python 3"
    },
    "language_info": {
      "name": "python"
    }
  },
  "cells": [
    {
      "cell_type": "markdown",
      "metadata": {
        "id": "view-in-github",
        "colab_type": "text"
      },
      "source": [
        "<a href=\"https://colab.research.google.com/github/feyuix/basic-python/blob/main/Python%20practice.ipynb\" target=\"_parent\"><img src=\"https://colab.research.google.com/assets/colab-badge.svg\" alt=\"Open In Colab\"/></a>"
      ]
    },
    {
      "cell_type": "markdown",
      "source": [
        "# **Python** **practice**"
      ],
      "metadata": {
        "id": "WlnTVfk_uW9k"
      }
    },
    {
      "cell_type": "markdown",
      "source": [
        "## Menghitung luas segitiga"
      ],
      "metadata": {
        "id": "BdJEmXooz3Ly"
      }
    },
    {
      "cell_type": "code",
      "source": [
        "alas = float"
      ],
      "metadata": {
        "id": "UKuLEggLz7U6"
      },
      "execution_count": null,
      "outputs": []
    },
    {
      "cell_type": "markdown",
      "source": [
        "## penghitung kuadrat"
      ],
      "metadata": {
        "id": "OGREJMWtwTrh"
      }
    },
    {
      "cell_type": "code",
      "source": [
        "#masukkan inputan angka\n",
        "angka = float(input(\"angka : \"))\n",
        "#menghitung akar kuadrat\n",
        "akar_kuadrat = angka ** 0.5\n",
        "#menampilkan hasil akar kuadrat\n",
        "print('Akar Kuadrat dari %0.2f adalah %0.2f'%(angka ,akar_kuadrat))\n",
        "#Untuk menampilkan 2 angka di belakang koma, gunakan fungsi %0.2f.\n",
        "\n"
      ],
      "metadata": {
        "colab": {
          "base_uri": "https://localhost:8080/"
        },
        "id": "dw-loLPjwcdK",
        "outputId": "53939709-62a9-453d-fb2a-a6e8e785a81c"
      },
      "execution_count": 17,
      "outputs": [
        {
          "output_type": "stream",
          "name": "stdout",
          "text": [
            "angka : 144\n",
            "Akar Kuadrat dari 144.00 adalah 12.00\n"
          ]
        }
      ]
    },
    {
      "cell_type": "markdown",
      "source": [
        "## program kalkulator penjumlahan\n",
        "\n"
      ],
      "metadata": {
        "id": "Ind3oVSDuarx"
      }
    },
    {
      "cell_type": "code",
      "source": [
        "#input angka\n",
        "a = input(\"bilangan pertama : \")\n",
        "b = input(\"bilangan kedua : \")\n",
        "#konversi angka dan rumus penjumlahan\n",
        "sum = int(a) + int(b)\n",
        "#tampilkan hasil\n",
        "print(\"hasil {0} + {1} = {2}\".format(a,b,sum))"
      ],
      "metadata": {
        "colab": {
          "base_uri": "https://localhost:8080/"
        },
        "id": "ppW0sakLueMQ",
        "outputId": "60e156ea-2f6c-4d08-ea08-3cb53f1211ce"
      },
      "execution_count": 5,
      "outputs": [
        {
          "output_type": "stream",
          "name": "stdout",
          "text": [
            "bilangan pertama : 1\n",
            "bilangan kedua : 2\n",
            "hasil 1 + 2 = 3\n"
          ]
        }
      ]
    },
    {
      "cell_type": "code",
      "source": [],
      "metadata": {
        "id": "1FRtuXH8yO0j"
      },
      "execution_count": null,
      "outputs": []
    }
  ]
}
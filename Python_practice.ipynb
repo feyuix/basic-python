{
  "nbformat": 4,
  "nbformat_minor": 0,
  "metadata": {
    "colab": {
      "provenance": [],
      "authorship_tag": "ABX9TyOnRaY6tnoWF2szdDu/10W1",
      "include_colab_link": true
    },
    "kernelspec": {
      "name": "python3",
      "display_name": "Python 3"
    },
    "language_info": {
      "name": "python"
    }
  },
  "cells": [
    {
      "cell_type": "markdown",
      "metadata": {
        "id": "view-in-github",
        "colab_type": "text"
      },
      "source": [
        "<a href=\"https://colab.research.google.com/github/feyuix/basic-python/blob/main/Python_practice.ipynb\" target=\"_parent\"><img src=\"https://colab.research.google.com/assets/colab-badge.svg\" alt=\"Open In Colab\"/></a>"
      ]
    },
    {
      "cell_type": "markdown",
      "source": [
        "# **Python** **practice**"
      ],
      "metadata": {
        "id": "WlnTVfk_uW9k"
      }
    },
    {
      "cell_type": "markdown",
      "source": [
        "## module test"
      ],
      "metadata": {
        "id": "AXz01u7e-dDd"
      }
    },
    {
      "cell_type": "code",
      "source": [
        "import datetime\n",
        "now = datetime.datetime.now()\n",
        "print(now)\n",
        "\n",
        "# alias pada module\n",
        "import datetime as dt\n",
        "sekarang = dt.datetime.now()\n",
        "print(sekarang)\n"
      ],
      "metadata": {
        "colab": {
          "base_uri": "https://localhost:8080/"
        },
        "id": "9U_lvvvS-ffN",
        "outputId": "3b6bfbb5-8266-42d5-c1a5-108503cea7f8"
      },
      "execution_count": 39,
      "outputs": [
        {
          "output_type": "stream",
          "name": "stdout",
          "text": [
            "2024-01-16 11:16:05.600534\n",
            "2024-01-16 11:16:05.601697\n"
          ]
        }
      ]
    },
    {
      "cell_type": "markdown",
      "source": [
        "## Change Variable"
      ],
      "metadata": {
        "id": "6WDYbjCp6pwd"
      }
    },
    {
      "cell_type": "code",
      "source": [
        "# Menyelesaikan Persamaan Kuadrat ax**2 + bx + c = 0\n",
        "\n",
        "# Mengimpor Modul Cmath\n",
        "import cmath\n",
        "\n",
        "# Menginput Angka\n",
        "a = int(input('Tulis a: '))\n",
        "b = int(input('Tulis b: '))\n",
        "c = int(input('Tulis c: '))\n",
        "\n",
        "# Menghitung Diskriminan\n",
        "d = (b**2) - (4*a*c)\n",
        "\n",
        "# Menghitung x1 dan x2\n",
        "x1 = (-b-cmath.sqrt(d))/(2*a)\n",
        "x2 = (-b+cmath.sqrt(d))/(2*a)\n",
        "\n",
        "#Menampilkan Hasil x1 dan x2\n",
        "print('Hasil Persamaan Kuadrat adalah {0} dan {1}'.format(x1,x2))"
      ],
      "metadata": {
        "colab": {
          "base_uri": "https://localhost:8080/"
        },
        "id": "V1h3cLPV7QE8",
        "outputId": "f14a2cfa-1a8f-44b0-ca55-25e9b981f6aa"
      },
      "execution_count": 34,
      "outputs": [
        {
          "output_type": "stream",
          "name": "stdout",
          "text": [
            "Tulis a: 1\n",
            "Tulis b: 2\n",
            "Tulis c: 1\n",
            "Hasil Persamaan Kuadrat adalah (-1+0j) dan (-1+0j)\n"
          ]
        }
      ]
    },
    {
      "cell_type": "markdown",
      "source": [
        "## menghitung keliling persegi panjang"
      ],
      "metadata": {
        "id": "9pyDgIYH2cUz"
      }
    },
    {
      "cell_type": "code",
      "source": [
        "#input panjang, lebar persegi panjang\n",
        "p = float(input('input panjang : '))\n",
        "l = float(input('input lebar : '))\n",
        "#hitung keliling persegi\n",
        "k = 2*(p+l)\n",
        "#tampilkan hasil\n",
        "print('keliling persegi panjang adalah :%0.2f' %k )"
      ],
      "metadata": {
        "colab": {
          "base_uri": "https://localhost:8080/"
        },
        "id": "_E_1xemL2ghD",
        "outputId": "658afbd7-ee75-4cf2-82f8-655e2e73037a"
      },
      "execution_count": 30,
      "outputs": [
        {
          "output_type": "stream",
          "name": "stdout",
          "text": [
            "input panjang : 1\n",
            "input lebar : 2\n",
            "keliling persegi panjang adalah :6.00\n"
          ]
        }
      ]
    },
    {
      "cell_type": "markdown",
      "source": [
        "## Menghitung volume kubus"
      ],
      "metadata": {
        "id": "_GYDl-5k10Jt"
      }
    },
    {
      "cell_type": "code",
      "source": [
        "#input sisi kubus\n",
        "sisi = float(input('input sisi kubus :'))\n",
        "\n",
        "#hitung volume kubus\n",
        "vol = sisi ** 3\n",
        "#tampilkan hasil hitung\n",
        "print('volumer kubus : %0.2f' %vol)"
      ],
      "metadata": {
        "colab": {
          "base_uri": "https://localhost:8080/"
        },
        "id": "I_3y0IkM13Gi",
        "outputId": "a762926d-389b-4956-87a7-411ac43b4113"
      },
      "execution_count": 24,
      "outputs": [
        {
          "output_type": "stream",
          "name": "stdout",
          "text": [
            "input sisi kubus :6\n",
            "volumer kubus : 216.00\n"
          ]
        }
      ]
    },
    {
      "cell_type": "markdown",
      "source": [
        "## Menghitung luas segitiga"
      ],
      "metadata": {
        "id": "BdJEmXooz3Ly"
      }
    },
    {
      "cell_type": "code",
      "source": [
        "alas = float(input(\"input alas segitiga:\"))\n",
        "tinggi = float(input(\"input tinggi segitiga:\"))\n",
        "\n",
        "#hitung luas segitiga\n",
        "luas =  (alas*tinggi)/2\n",
        "\n",
        "#tampilkan hasil hitung\n",
        "print('luas segitiga adalah :',luas)"
      ],
      "metadata": {
        "colab": {
          "base_uri": "https://localhost:8080/"
        },
        "id": "UKuLEggLz7U6",
        "outputId": "2b3deaa1-c65e-4aea-815d-ad8b9d74d9b1"
      },
      "execution_count": 22,
      "outputs": [
        {
          "output_type": "stream",
          "name": "stdout",
          "text": [
            "input alas segitiga:0.325\n",
            "input tinggi segitiga:6.032\n",
            "luas segitiga adalah : 0.9802000000000001\n"
          ]
        }
      ]
    },
    {
      "cell_type": "markdown",
      "source": [
        "## penghitung kuadrat"
      ],
      "metadata": {
        "id": "OGREJMWtwTrh"
      }
    },
    {
      "cell_type": "code",
      "source": [
        "#masukkan inputan angka\n",
        "angka = float(input(\"angka : \"))\n",
        "#menghitung akar kuadrat\n",
        "akar_kuadrat = angka ** 0.5\n",
        "#menampilkan hasil akar kuadrat\n",
        "print('Akar Kuadrat dari %0.2f adalah %0.2f'%(angka ,akar_kuadrat))\n",
        "#Untuk menampilkan  angka di belakang koma, gunakan fungsi %0.2f.\n",
        "\n"
      ],
      "metadata": {
        "colab": {
          "base_uri": "https://localhost:8080/"
        },
        "id": "dw-loLPjwcdK",
        "outputId": "53939709-62a9-453d-fb2a-a6e8e785a81c"
      },
      "execution_count": 17,
      "outputs": [
        {
          "output_type": "stream",
          "name": "stdout",
          "text": [
            "angka : 144\n",
            "Akar Kuadrat dari 144.00 adalah 12.00\n"
          ]
        }
      ]
    },
    {
      "cell_type": "markdown",
      "source": [
        "## program penjumlahan\n",
        "\n"
      ],
      "metadata": {
        "id": "Ind3oVSDuarx"
      }
    },
    {
      "cell_type": "code",
      "source": [
        "#input angka\n",
        "a = input(\"bilangan pertama : \")\n",
        "b = input(\"bilangan kedua : \")\n",
        "#konversi angka dan rumus penjumlahan\n",
        "sum = int(a) + int(b)\n",
        "#tampilkan hasil\n",
        "print(\"hasil {0} + {1} = {2}\".format(a,b,sum))"
      ],
      "metadata": {
        "colab": {
          "base_uri": "https://localhost:8080/"
        },
        "id": "ppW0sakLueMQ",
        "outputId": "60e156ea-2f6c-4d08-ea08-3cb53f1211ce"
      },
      "execution_count": 5,
      "outputs": [
        {
          "output_type": "stream",
          "name": "stdout",
          "text": [
            "bilangan pertama : 1\n",
            "bilangan kedua : 2\n",
            "hasil 1 + 2 = 3\n"
          ]
        }
      ]
    }
  ]
}
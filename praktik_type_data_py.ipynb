{
  "nbformat": 4,
  "nbformat_minor": 0,
  "metadata": {
    "colab": {
      "provenance": [],
      "authorship_tag": "ABX9TyPVV+kxglvB7io73Z6yWZP0",
      "include_colab_link": true
    },
    "kernelspec": {
      "name": "python3",
      "display_name": "Python 3"
    },
    "language_info": {
      "name": "python"
    }
  },
  "cells": [
    {
      "cell_type": "markdown",
      "metadata": {
        "id": "view-in-github",
        "colab_type": "text"
      },
      "source": [
        "<a href=\"https://colab.research.google.com/github/feyuix/basic-python/blob/main/praktik_type_data_py.ipynb\" target=\"_parent\"><img src=\"https://colab.research.google.com/assets/colab-badge.svg\" alt=\"Open In Colab\"/></a>"
      ]
    },
    {
      "cell_type": "code",
      "execution_count": null,
      "metadata": {
        "colab": {
          "base_uri": "https://localhost:8080/"
        },
        "id": "IB5J944ujTLF",
        "outputId": "b0f582ed-4ece-43c7-ed51-acbfe2182852"
      },
      "outputs": [
        {
          "output_type": "stream",
          "name": "stdout",
          "text": [
            "8\n",
            "<class 'int'>\n"
          ]
        }
      ],
      "source": [
        "#type int atau bilangan bulat\n",
        "data = 8\n",
        "print(data)\n",
        "print (type(data))"
      ]
    },
    {
      "cell_type": "code",
      "source": [
        "#type float atau bil ddesimal\n",
        "data = 8.5\n",
        "print(data)\n",
        "print (type(data))"
      ],
      "metadata": {
        "colab": {
          "base_uri": "https://localhost:8080/"
        },
        "id": "HdUY7ltIjeKI",
        "outputId": "43612610-4e21-4973-b275-b970e39a9fa7"
      },
      "execution_count": null,
      "outputs": [
        {
          "output_type": "stream",
          "name": "stdout",
          "text": [
            "8.5\n",
            "<class 'float'>\n"
          ]
        }
      ]
    },
    {
      "cell_type": "code",
      "source": [
        "#type data boolean atau biner\n",
        "data1 = True\n",
        "dat2 = False\n",
        "print(data1)\n",
        "print(type(data))"
      ],
      "metadata": {
        "colab": {
          "base_uri": "https://localhost:8080/"
        },
        "id": "PcMiVHI5jqR3",
        "outputId": "9ada3ded-9fe2-42fc-8197-584b60106c27"
      },
      "execution_count": null,
      "outputs": [
        {
          "output_type": "stream",
          "name": "stdout",
          "text": [
            "True\n",
            "<class 'float'>\n"
          ]
        }
      ]
    },
    {
      "cell_type": "code",
      "source": [
        "#type string/ kumpulan karakter\n",
        "# \" \"\n",
        "data1 = \"ayam\"\n",
        "data2 = \"8.5\"\n",
        "data3 = \"False\"\n",
        "print(data1)\n",
        "print(type(data1))\n",
        "\n",
        "print(data2)\n",
        "print(type(data2))\n",
        "\n",
        "print(data3)\n",
        "print(type(data3))"
      ],
      "metadata": {
        "colab": {
          "base_uri": "https://localhost:8080/"
        },
        "id": "mWQPMwPhj1TY",
        "outputId": "4579572d-9fc1-40fb-ba33-e6aab070941e"
      },
      "execution_count": null,
      "outputs": [
        {
          "output_type": "stream",
          "name": "stdout",
          "text": [
            "ayam\n",
            "<class 'str'>\n",
            "8.5\n",
            "<class 'str'>\n",
            "False\n",
            "<class 'str'>\n"
          ]
        }
      ]
    },
    {
      "cell_type": "code",
      "source": [
        "#type data list\n",
        "#[]\n",
        "\n",
        "data=[\"ayam\", \"kuda\", \"sapi\"]\n",
        "print(data)\n",
        "print(type(data))"
      ],
      "metadata": {
        "colab": {
          "base_uri": "https://localhost:8080/"
        },
        "id": "i1yZyEA1kOD8",
        "outputId": "fcc88be7-c486-4f5a-d8de-fa0ad99d9ebb"
      },
      "execution_count": null,
      "outputs": [
        {
          "output_type": "stream",
          "name": "stdout",
          "text": [
            "['ayam', 'kuda', 'sapi']\n",
            "<class 'list'>\n"
          ]
        }
      ]
    },
    {
      "cell_type": "code",
      "source": [
        "#tuple ()\n",
        "\n",
        "data=(\"ayam\",\"sapi\",\"kuda\")\n",
        "print(data)\n",
        "print(type(data))"
      ],
      "metadata": {
        "colab": {
          "base_uri": "https://localhost:8080/"
        },
        "id": "hXjBsAY5kkO8",
        "outputId": "b4c066eb-9642-4cc2-fd91-b2864dde8d9a"
      },
      "execution_count": null,
      "outputs": [
        {
          "output_type": "stream",
          "name": "stdout",
          "text": [
            "('ayam', 'sapi', 'kuda')\n",
            "<class 'tuple'>\n"
          ]
        }
      ]
    },
    {
      "cell_type": "code",
      "source": [
        "#Set {}\n",
        "\n",
        "data={\"ayam\",\"kuda\",\"sapi\",\"kuda\"}\n",
        "print(data)\n",
        "print(type(data))"
      ],
      "metadata": {
        "colab": {
          "base_uri": "https://localhost:8080/"
        },
        "id": "z7Sr7_81k1tl",
        "outputId": "861c0cdf-d2e4-47e6-b867-e4cb38dd7a01"
      },
      "execution_count": null,
      "outputs": [
        {
          "output_type": "stream",
          "name": "stdout",
          "text": [
            "{'sapi', 'ayam', 'kuda'}\n",
            "<class 'set'>\n"
          ]
        }
      ]
    },
    {
      "cell_type": "code",
      "source": [
        "#dictionary\n",
        "\n",
        "data= {\"mamalia\" : \"sapi\", \"unggas\" : \"ayam\", \"reptil\":\"kadal\"}\n",
        "print(data)\n",
        "print(type(data))"
      ],
      "metadata": {
        "colab": {
          "base_uri": "https://localhost:8080/"
        },
        "id": "26vD8MfOlGl7",
        "outputId": "4a33a714-5230-4e72-ab1c-d21ffde62298"
      },
      "execution_count": null,
      "outputs": [
        {
          "output_type": "stream",
          "name": "stdout",
          "text": [
            "{'mamalia': 'sapi', 'unggas': 'ayam', 'reptil': 'kadal'}\n",
            "<class 'dict'>\n"
          ]
        }
      ]
    },
    {
      "cell_type": "code",
      "source": [],
      "metadata": {
        "id": "BuzVK_ivlXxz"
      },
      "execution_count": null,
      "outputs": []
    }
  ]
}
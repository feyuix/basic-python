{
  "nbformat": 4,
  "nbformat_minor": 0,
  "metadata": {
    "colab": {
      "provenance": [],
      "authorship_tag": "ABX9TyPvlUQ0F5xFyEF9oVj6xPN1",
      "include_colab_link": true
    },
    "kernelspec": {
      "name": "python3",
      "display_name": "Python 3"
    },
    "language_info": {
      "name": "python"
    }
  },
  "cells": [
    {
      "cell_type": "markdown",
      "metadata": {
        "id": "view-in-github",
        "colab_type": "text"
      },
      "source": [
        "<a href=\"https://colab.research.google.com/github/feyuix/basic-python/blob/main/belajar-python.ipynb\" target=\"_parent\"><img src=\"https://colab.research.google.com/assets/colab-badge.svg\" alt=\"Open In Colab\"/></a>"
      ]
    },
    {
      "cell_type": "code",
      "source": [
        "data = False\n",
        "data_int = int(data)\n",
        "\n",
        "print(data, type(data))\n",
        "print(data_int,type(data_int))\n"
      ],
      "metadata": {
        "colab": {
          "base_uri": "https://localhost:8080/"
        },
        "id": "_xWzY6wYJAVs",
        "outputId": "c6541bc7-a3ad-45c1-d2ab-ddf8e228e406"
      },
      "execution_count": null,
      "outputs": [
        {
          "output_type": "stream",
          "name": "stdout",
          "text": [
            "False <class 'bool'>\n",
            "0 <class 'int'>\n"
          ]
        }
      ]
    },
    {
      "cell_type": "markdown",
      "source": [
        "To Float"
      ],
      "metadata": {
        "id": "dNPHTX70JzKB"
      }
    },
    {
      "cell_type": "code",
      "source": [
        "data = False\n",
        "data_float = float(data)\n",
        "\n",
        "print(data, type(data))\n",
        "print(data_float, type(data_float))\n"
      ],
      "metadata": {
        "colab": {
          "base_uri": "https://localhost:8080/"
        },
        "id": "fw9MWckWJDiT",
        "outputId": "e3df2560-66b5-4977-e562-8160868b4666"
      },
      "execution_count": null,
      "outputs": [
        {
          "output_type": "stream",
          "name": "stdout",
          "text": [
            "False <class 'bool'>\n",
            "0.0 <class 'float'>\n"
          ]
        }
      ]
    },
    {
      "cell_type": "code",
      "source": [
        "#to boolean\n",
        "#float/int"
      ],
      "metadata": {
        "id": "R1xBntmEJ7J1"
      },
      "execution_count": null,
      "outputs": []
    },
    {
      "cell_type": "code",
      "source": [
        "data = \"Spiderman\"\n",
        "dt = \"Batam\"\n",
        "data = 12\n",
        "\n",
        "print(data)"
      ],
      "metadata": {
        "colab": {
          "base_uri": "https://localhost:8080/"
        },
        "id": "iKZbaDFvK7P3",
        "outputId": "b9cef64f-b3f6-4191-c277-76ee5cda4c80"
      },
      "execution_count": null,
      "outputs": [
        {
          "output_type": "stream",
          "name": "stdout",
          "text": [
            "12\n"
          ]
        }
      ]
    },
    {
      "cell_type": "code",
      "source": [
        "data = \"string\"\n",
        "data_bool = bool(data)\n",
        "print(data_bool)\n"
      ],
      "metadata": {
        "colab": {
          "base_uri": "https://localhost:8080/"
        },
        "id": "DOxq1eJqh0SK",
        "outputId": "e9e116a3-ce8d-4da4-a83f-9a35e5f1dd6f"
      },
      "execution_count": null,
      "outputs": [
        {
          "output_type": "stream",
          "name": "stdout",
          "text": [
            "True\n"
          ]
        }
      ]
    },
    {
      "cell_type": "code",
      "source": [
        "data  = \"Batman\"\n",
        "data = list(data)\n",
        "\n",
        "print(data)"
      ],
      "metadata": {
        "colab": {
          "base_uri": "https://localhost:8080/"
        },
        "id": "ydrxFmG9krft",
        "outputId": "b5ccfaca-3bad-4432-c6d2-d1878a77ef0a"
      },
      "execution_count": null,
      "outputs": [
        {
          "output_type": "stream",
          "name": "stdout",
          "text": [
            "['B', 'a', 't', 'm', 'a', 'n']\n"
          ]
        }
      ]
    },
    {
      "cell_type": "code",
      "source": [
        "data= 10\n",
        "data = 10.0\n",
        "data = \"Spiderman\"\n",
        "print(data)\n"
      ],
      "metadata": {
        "colab": {
          "base_uri": "https://localhost:8080/"
        },
        "id": "e1PkVLddlJnp",
        "outputId": "f16905ce-a62d-4d07-cebb-454056de92e5"
      },
      "execution_count": null,
      "outputs": [
        {
          "output_type": "stream",
          "name": "stdout",
          "text": [
            "Spiderman\n"
          ]
        }
      ]
    },
    {
      "cell_type": "code",
      "source": [
        "data = (1,2,3,4)\n",
        "print(type(data))"
      ],
      "metadata": {
        "colab": {
          "base_uri": "https://localhost:8080/"
        },
        "id": "Be7z_cd5lT7n",
        "outputId": "60391ee2-316c-4760-cfe8-48656ccb92b2"
      },
      "execution_count": null,
      "outputs": [
        {
          "output_type": "stream",
          "name": "stdout",
          "text": [
            "<class 'tuple'>\n"
          ]
        }
      ]
    },
    {
      "cell_type": "code",
      "source": [
        "data = '10'\n",
        "\n",
        "print(type(data))\n"
      ],
      "metadata": {
        "colab": {
          "base_uri": "https://localhost:8080/"
        },
        "id": "kHXqCB_plZb9",
        "outputId": "9d56a72e-341e-490a-d1dc-4f0b1ff66de5"
      },
      "execution_count": null,
      "outputs": [
        {
          "output_type": "stream",
          "name": "stdout",
          "text": [
            "<class 'str'>\n"
          ]
        }
      ]
    },
    {
      "cell_type": "code",
      "source": [
        "# Penambahan\n",
        "penambahan = 5 + 4\n",
        "print(penambahan)\n",
        "\n",
        "# Pengurangan\n",
        "pengurangan = 5 - 4\n",
        "print(pengurangan)"
      ],
      "metadata": {
        "colab": {
          "base_uri": "https://localhost:8080/"
        },
        "id": "VWu1wKHhmKQy",
        "outputId": "3955ecf9-9450-4ba3-fb54-d8acddf64fa1"
      },
      "execution_count": null,
      "outputs": [
        {
          "output_type": "stream",
          "name": "stdout",
          "text": [
            "9\n",
            "1\n"
          ]
        }
      ]
    },
    {
      "cell_type": "code",
      "source": [
        "x= [1,2,3]\n",
        "y=x\n",
        "print(x is y)"
      ],
      "metadata": {
        "id": "tJqq3xCFln5F",
        "colab": {
          "base_uri": "https://localhost:8080/"
        },
        "outputId": "5f2414d4-192c-4e99-8beb-41d7694b9011"
      },
      "execution_count": null,
      "outputs": [
        {
          "output_type": "stream",
          "name": "stdout",
          "text": [
            "True\n"
          ]
        }
      ]
    },
    {
      "cell_type": "code",
      "source": [
        "a = [1,2]\n",
        "b=[1,2]\n",
        "print(a==b)\n",
        "print(id(a))\n",
        "print(id(b))"
      ],
      "metadata": {
        "colab": {
          "base_uri": "https://localhost:8080/"
        },
        "id": "489CJL6TUe7K",
        "outputId": "d69a1a43-e1f1-42c5-ef3f-5bfbcd3ac19e"
      },
      "execution_count": null,
      "outputs": [
        {
          "output_type": "stream",
          "name": "stdout",
          "text": [
            "True\n",
            "140579514738304\n",
            "140579514960832\n"
          ]
        }
      ]
    },
    {
      "cell_type": "code",
      "source": [],
      "metadata": {
        "id": "m6o6LFslWPmx"
      },
      "execution_count": null,
      "outputs": []
    },
    {
      "cell_type": "code",
      "source": [
        "x=5\n",
        "print(x)"
      ],
      "metadata": {
        "colab": {
          "base_uri": "https://localhost:8080/"
        },
        "id": "kMFWuS3BaeOH",
        "outputId": "f4179cd8-b704-46b1-ee82-ef80874f3402"
      },
      "execution_count": null,
      "outputs": [
        {
          "output_type": "stream",
          "name": "stdout",
          "text": [
            "5\n"
          ]
        }
      ]
    },
    {
      "cell_type": "code",
      "source": [
        "x += 4\n",
        "print(x)"
      ],
      "metadata": {
        "colab": {
          "base_uri": "https://localhost:8080/"
        },
        "id": "Hs1PGtIOagi4",
        "outputId": "affc8c69-c745-4e43-9cc4-1f0d2d02f1e7"
      },
      "execution_count": null,
      "outputs": [
        {
          "output_type": "stream",
          "name": "stdout",
          "text": [
            "9\n"
          ]
        }
      ]
    },
    {
      "cell_type": "code",
      "source": [
        "x += 4\n",
        "print(x)"
      ],
      "metadata": {
        "colab": {
          "base_uri": "https://localhost:8080/"
        },
        "id": "Np8uor8Lap2Z",
        "outputId": "7767525d-061f-4063-b67f-27c79b7ac55e"
      },
      "execution_count": null,
      "outputs": [
        {
          "output_type": "stream",
          "name": "stdout",
          "text": [
            "13\n"
          ]
        }
      ]
    },
    {
      "cell_type": "code",
      "source": [
        "x -= 3\n",
        "print(x)"
      ],
      "metadata": {
        "colab": {
          "base_uri": "https://localhost:8080/"
        },
        "id": "PLwewy2HaxpZ",
        "outputId": "13167b64-3010-4059-b4a1-e1f3c4d0d253"
      },
      "execution_count": null,
      "outputs": [
        {
          "output_type": "stream",
          "name": "stdout",
          "text": [
            "4\n"
          ]
        }
      ]
    },
    {
      "cell_type": "code",
      "source": [
        "x %= 10\n",
        "print(x)"
      ],
      "metadata": {
        "colab": {
          "base_uri": "https://localhost:8080/"
        },
        "id": "VFY3mw-ka6kd",
        "outputId": "b629f2a6-436c-4da0-f55f-6dada9740535"
      },
      "execution_count": null,
      "outputs": [
        {
          "output_type": "stream",
          "name": "stdout",
          "text": [
            "4\n"
          ]
        }
      ]
    },
    {
      "cell_type": "code",
      "source": [
        "#luas persegipanjang\n",
        "p = float(input(\"masukkan panjang: \"))\n",
        "l = float(input(\"masukkan lebar\"))\n",
        "luas= p * l\n",
        "print(\"luas persegi panjang adalah:\", luas)"
      ],
      "metadata": {
        "colab": {
          "base_uri": "https://localhost:8080/"
        },
        "id": "4VG9cnribJ3M",
        "outputId": "17750f09-61c4-45d6-d88f-433d2713d7e1"
      },
      "execution_count": null,
      "outputs": [
        {
          "output_type": "stream",
          "name": "stdout",
          "text": [
            "masukkan panjang: 30\n",
            "masukkan lebar10\n",
            "luas persegi panjang adalah: 300.0\n"
          ]
        }
      ]
    },
    {
      "cell_type": "code",
      "source": [
        "tinggi = int(input(\"tinggi segitiga\"))\n",
        "for i in range(1, tinggi +1):\n",
        "  print(\"*\" * i)"
      ],
      "metadata": {
        "colab": {
          "base_uri": "https://localhost:8080/"
        },
        "id": "8bpsFCViczhG",
        "outputId": "4735bdac-a12c-41dd-e55f-b5449ccdb25c"
      },
      "execution_count": null,
      "outputs": [
        {
          "output_type": "stream",
          "name": "stdout",
          "text": [
            "tinggi segitiga30\n",
            "*\n",
            "**\n",
            "***\n",
            "****\n",
            "*****\n",
            "******\n",
            "*******\n",
            "********\n",
            "*********\n",
            "**********\n",
            "***********\n",
            "************\n",
            "*************\n",
            "**************\n",
            "***************\n",
            "****************\n",
            "*****************\n",
            "******************\n",
            "*******************\n",
            "********************\n",
            "*********************\n",
            "**********************\n",
            "***********************\n",
            "************************\n",
            "*************************\n",
            "**************************\n",
            "***************************\n",
            "****************************\n",
            "*****************************\n",
            "******************************\n"
          ]
        }
      ]
    },
    {
      "cell_type": "code",
      "source": [
        "tinggi = int(input(\"tinggi belah ktupat: \"))\n",
        "for i in range(1, tinggi, 2):\n",
        "  print(\" \" * ((tinggi - i) // 2) + \"*\" * i)\n",
        "\n",
        "  for i in range(tinggi, 0, -2):\n",
        "    print(\" \" *((tinggi - i)// 2) + \"*\" * i)"
      ],
      "metadata": {
        "colab": {
          "base_uri": "https://localhost:8080/"
        },
        "id": "39JoO39idb96",
        "outputId": "33db1909-cdb4-4987-bf4c-5955c150a72a"
      },
      "execution_count": null,
      "outputs": [
        {
          "output_type": "stream",
          "name": "stdout",
          "text": [
            "tinggi belah ktupat: 4\n",
            " *\n",
            "****\n",
            " **\n",
            "***\n",
            "****\n",
            " **\n"
          ]
        }
      ]
    },
    {
      "cell_type": "code",
      "source": [
        "# Input tinggi belah ketupat (setengah dari tinggi diamond) dari pengguna\n",
        "tinggi_setengah = int(input(\"Masukkan tinggi setengah dari diamond: \"))\n",
        "\n",
        "# Mencetak bagian atas diamond\n",
        "for i in range(1, tinggi_setengah + 1):\n",
        "    print(\" \" * (tinggi_setengah - i) + \"*\" * (2 * i - 1))\n",
        "\n",
        "# Mencetak bagian bawah diamond\n",
        "for i in range(tinggi_setengah - 1, 0, -1):\n",
        "    print(\" \" * (tinggi_setengah - i) + \"*\" * (2 * i - 1))\n",
        "\n"
      ],
      "metadata": {
        "colab": {
          "base_uri": "https://localhost:8080/"
        },
        "id": "KmLttDzZeFeP",
        "outputId": "680764e4-0443-4ba7-81e4-3b71fbfc9de5"
      },
      "execution_count": null,
      "outputs": [
        {
          "output_type": "stream",
          "name": "stdout",
          "text": [
            "Masukkan tinggi setengah dari diamond: 10\n",
            "         *\n",
            "        ***\n",
            "       *****\n",
            "      *******\n",
            "     *********\n",
            "    ***********\n",
            "   *************\n",
            "  ***************\n",
            " *****************\n",
            "*******************\n",
            " *****************\n",
            "  ***************\n",
            "   *************\n",
            "    ***********\n",
            "     *********\n",
            "      *******\n",
            "       *****\n",
            "        ***\n",
            "         *\n"
          ]
        }
      ]
    },
    {
      "cell_type": "code",
      "source": [],
      "metadata": {
        "id": "jmZwuQKCeqFX"
      },
      "execution_count": null,
      "outputs": []
    }
  ]
}